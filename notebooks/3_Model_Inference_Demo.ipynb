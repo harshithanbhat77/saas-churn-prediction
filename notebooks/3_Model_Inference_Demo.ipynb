{
 "cells": [
  {
   "cell_type": "markdown",
   "id": "98df1ec0",
   "metadata": {},
   "source": [
    "# SaaS Churn Prediction: Model Inference Demo\n",
    "This notebook demonstrates how to use a trained machine learning model to predict customer churn for a SaaS business. The workflow includes:\n",
    "\n",
    "- Loading the trained churn prediction model\n",
    "- Preprocessing new customer data\n",
    "- Making churn predictions for new samples\n",
    "- Displaying the prediction result"
   ]
  }
 ],
 "metadata": {
  "kernelspec": {
   "display_name": "venv",
   "language": "python",
   "name": "python3"
  },
  "language_info": {
   "codemirror_mode": {
    "name": "ipython",
    "version": 3
   },
   "file_extension": ".py",
   "mimetype": "text/x-python",
   "name": "python",
   "nbconvert_exporter": "python",
   "pygments_lexer": "ipython3",
   "version": "3.12.6"
  }
 },
 "nbformat": 4,
 "nbformat_minor": 5
}
